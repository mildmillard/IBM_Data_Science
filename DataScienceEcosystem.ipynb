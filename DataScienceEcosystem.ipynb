{
 "cells": [
  {
   "cell_type": "markdown",
   "id": "26663b1e",
   "metadata": {},
   "source": [
    "# Data Science Tools and Ecosystem  \n",
    "\n"
   ]
  },
  {
   "cell_type": "markdown",
   "id": "3df26825",
   "metadata": {},
   "source": [
    "### Some of the popular languages that Data Scientists use are:\n",
    "\n",
    "* Python\n",
    "* R\n",
    "* java\n",
    "* Swift"
   ]
  },
  {
   "cell_type": "markdown",
   "id": "1d880f25",
   "metadata": {},
   "source": [
    "Some of the commonly used libraries used by Data Scientists include:\n",
    "\n",
    "* TensorFlow\n",
    "* SciKit-learn\n",
    "* Seaborn\n",
    "* Matplotlib\n",
    "* Pandas\n",
    "* Numpy"
   ]
  },
  {
   "cell_type": "markdown",
   "id": "b4958cd5",
   "metadata": {},
   "source": [
    "### Open source tools used in data science:"
   ]
  },
  {
   "cell_type": "markdown",
   "id": "6733d71e",
   "metadata": {},
   "source": [
    "|Data Science Tools|\n",
    "|------------------|\n",
    "|RStudio|\n",
    "|Apache Spark|\n",
    "|TensorFlow|\n"
   ]
  },
  {
   "cell_type": "code",
   "execution_count": 11,
   "id": "9eca73f7",
   "metadata": {},
   "outputs": [
    {
     "data": {
      "text/html": [
       "<style>\n",
       "table {float:left}\n",
       "</style>\n"
      ],
      "text/plain": [
       "<IPython.core.display.HTML object>"
      ]
     },
     "metadata": {},
     "output_type": "display_data"
    }
   ],
   "source": [
    "\n",
    "%%html\n",
    "<style>\n",
    "table {float:left}\n",
    "</style>"
   ]
  },
  {
   "cell_type": "markdown",
   "id": "c26b8b23",
   "metadata": {},
   "source": [
    "### Below are a few examples of evaluating arithmetic expressions in Python.:"
   ]
  },
  {
   "cell_type": "code",
   "execution_count": 12,
   "id": "87611515",
   "metadata": {},
   "outputs": [
    {
     "name": "stdout",
     "output_type": "stream",
     "text": [
      "2\n",
      "5\n"
     ]
    }
   ],
   "source": [
    "print(1 + 1)\n",
    "print(2 + 3)"
   ]
  },
  {
   "cell_type": "code",
   "execution_count": 13,
   "id": "79711988",
   "metadata": {},
   "outputs": [
    {
     "data": {
      "text/plain": [
       "17"
      ]
     },
     "execution_count": 13,
     "metadata": {},
     "output_type": "execute_result"
    }
   ],
   "source": [
    "# This is a simple arithmethic expression to mutiply then add integers.\n",
    "(3*4)+5"
   ]
  },
  {
   "cell_type": "code",
   "execution_count": 14,
   "id": "d3861f3f",
   "metadata": {},
   "outputs": [
    {
     "name": "stdout",
     "output_type": "stream",
     "text": [
      "3\n",
      "3.3333333333333335\n"
     ]
    }
   ],
   "source": [
    "# This will convert 200 minutes to hours by dividing by 60.\n",
    "print(200//60)\n",
    "print(200/60)"
   ]
  },
  {
   "cell_type": "markdown",
   "id": "810315ed",
   "metadata": {},
   "source": [
    "**Objectives:**\n",
    "\n",
    "* What are popular languages used for Data Science\n",
    "* What are some common libraries used for Data Science\n",
    "* What are some tools used for Data Science"
   ]
  },
  {
   "cell_type": "markdown",
   "id": "34f8e870",
   "metadata": {},
   "source": [
    "## Author\n",
    "MIldrien Horton"
   ]
  },
  {
   "cell_type": "code",
   "execution_count": null,
   "id": "eb2c6dcf",
   "metadata": {},
   "outputs": [],
   "source": []
  }
 ],
 "metadata": {
  "kernelspec": {
   "display_name": "Python 3 (ipykernel)",
   "language": "python",
   "name": "python3"
  },
  "language_info": {
   "codemirror_mode": {
    "name": "ipython",
    "version": 3
   },
   "file_extension": ".py",
   "mimetype": "text/x-python",
   "name": "python",
   "nbconvert_exporter": "python",
   "pygments_lexer": "ipython3",
   "version": "3.9.2"
  }
 },
 "nbformat": 4,
 "nbformat_minor": 5
}
